{
 "cells": [
  {
   "cell_type": "markdown",
   "id": "566ac822",
   "metadata": {},
   "source": [
    "# Final Project: Experiments 3 and 4"
   ]
  },
  {
   "cell_type": "code",
   "execution_count": 1,
   "id": "b990dcb6",
   "metadata": {},
   "outputs": [],
   "source": [
    "from torch.nn import Module\n",
    "from torch import nn\n",
    "\n",
    "import numpy as np\n",
    "import os\n",
    "import torch\n",
    "from torchvision.datasets import mnist\n",
    "from torch.nn import CrossEntropyLoss\n",
    "from torch.optim import SGD\n",
    "from torch.utils.data import DataLoader\n",
    "from torchvision.transforms import ToTensor\n",
    "\n",
    "# Additional imports\n",
    "import time\n",
    "import matplotlib.pyplot as plt"
   ]
  },
  {
   "cell_type": "code",
   "execution_count": 2,
   "id": "be8e46c6",
   "metadata": {},
   "outputs": [],
   "source": [
    "def train_experiment_4(model):\n",
    "    start_time = time.time()\n",
    "    \n",
    "    batch_size = 256\n",
    "    train_dataset = mnist.MNIST(root='./train', train=True, transform=ToTensor())\n",
    "    test_dataset = mnist.MNIST(root='./test', train=False, transform=ToTensor())\n",
    "    train_loader = DataLoader(train_dataset, batch_size=batch_size)\n",
    "    test_loader = DataLoader(test_dataset, batch_size=batch_size)\n",
    "    sgd = SGD(model.parameters(), lr=1e-1)\n",
    "    loss_fn = CrossEntropyLoss()\n",
    "    all_epoch = 100\n",
    "    prev_acc = 0\n",
    "    for current_epoch in range(all_epoch):\n",
    "        model.train()\n",
    "        for idx, (train_x, train_label) in enumerate(train_loader):\n",
    "            sgd.zero_grad()\n",
    "            predict_y = model(train_x.float())\n",
    "            loss = loss_fn(predict_y, train_label.long())\n",
    "            loss.backward()\n",
    "            sgd.step()\n",
    "\n",
    "        all_correct_num = 0\n",
    "        all_sample_num = 0\n",
    "        model.eval()\n",
    "\n",
    "        for idx, (test_x, test_label) in enumerate(test_loader):\n",
    "            predict_y = model(test_x.float()).detach()\n",
    "            predict_y =torch.argmax(predict_y, dim=-1)\n",
    "            current_correct_num = predict_y == test_label\n",
    "            all_correct_num += np.sum(current_correct_num.to('cpu').numpy(), axis=-1)\n",
    "            all_sample_num += current_correct_num.shape[0]\n",
    "        acc = all_correct_num / all_sample_num\n",
    "#         print('accuracy: {:.3f}'.format(acc), flush=True)\n",
    "        if not os.path.isdir(\"models\"):\n",
    "            os.mkdir(\"models\")\n",
    "        torch.save(model, 'models/mnist_{:.3f}.pkl'.format(acc))\n",
    "        if np.abs(acc - prev_acc) < 1e-4:\n",
    "            break\n",
    "        prev_acc = acc\n",
    "#     print(\"Model finished training\")\n",
    "    return acc, time.time() - start_time"
   ]
  },
  {
   "cell_type": "markdown",
   "id": "81adf2bc",
   "metadata": {},
   "source": [
    "## Experiment 3: Maxpool Tweaks"
   ]
  },
  {
   "cell_type": "markdown",
   "id": "92f3c364",
   "metadata": {},
   "source": [
    "### Define Model"
   ]
  },
  {
   "cell_type": "code",
   "execution_count": 14,
   "id": "6a1ea6ca",
   "metadata": {},
   "outputs": [],
   "source": [
    "class LeNet3(Module):\n",
    "    def __init__(self, kernel_size, stride, padding):\n",
    "        super().__init__()\n",
    "        self.conv1 = nn.Conv2d(1, 6, 5)\n",
    "        self.relu1 = nn.ReLU()\n",
    "        self.pool1 = nn.MaxPool2d(kernel_size=kernel_size, stride=stride, padding=padding)\n",
    "        self.conv2 = nn.Conv2d(6, 16, 5)\n",
    "        self.relu2 = nn.ReLU()\n",
    "        self.pool2 = nn.MaxPool2d(kernel_size=kernel_size, stride=stride, padding=padding)\n",
    "        self.fc1 = nn.LazyLinear(120) \n",
    "        self.relu3 = nn.ReLU()\n",
    "        self.fc2 = nn.Linear(120, 84)\n",
    "        self.relu4 = nn.ReLU()\n",
    "        self.fc3 = nn.Linear(84, 10)\n",
    "        self.relu5 = nn.ReLU()\n",
    "\n",
    "    def forward(self, x):\n",
    "        y = self.conv1(x)\n",
    "        y = self.relu1(y)\n",
    "        y = self.pool1(y)\n",
    "        y = self.conv2(y)\n",
    "        y = self.relu2(y)\n",
    "        y = self.pool2(y)\n",
    "        y = y.view(y.shape[0], -1)\n",
    "        y = self.fc1(y)\n",
    "        y = self.relu3(y)\n",
    "        y = self.fc2(y)\n",
    "        y = self.relu4(y)\n",
    "        y = self.fc3(y)\n",
    "        y = self.relu5(y)\n",
    "        return y"
   ]
  },
  {
   "cell_type": "markdown",
   "id": "65e14273",
   "metadata": {},
   "source": [
    "### Train Model"
   ]
  },
  {
   "cell_type": "code",
   "execution_count": 19,
   "id": "b6c02d4b",
   "metadata": {},
   "outputs": [
    {
     "name": "stdout",
     "output_type": "stream",
     "text": [
      "Model 1 Accuracy: 0.979 Time: 213.00752782821655\n",
      "Model 2 Accuracy: 0.795 Time: 165.3505392074585\n",
      "Model 3 Accuracy: 0.9686 Time: 256.6614339351654\n",
      "Model 4 Accuracy: 0.7885 Time: 227.20667815208435\n",
      "Model 5 Accuracy: 0.6984 Time: 178.35092616081238\n",
      "Model 2 Accuracy: 0.9715 Time: 695.8001260757446\n",
      "Model 7 Accuracy: 0.9772 Time: 232.69445204734802\n"
     ]
    }
   ],
   "source": [
    "# Default \n",
    "model1 = LeNet3(2, 2, 0)\n",
    "acc1, time1 = train_experiment_4(model1)\n",
    "print(\"Model 1 Accuracy:\", acc1, \"Time:\", time1)\n",
    "\n",
    "# Increase kernel size\n",
    "model2 = LeNet3(3, 3, 0)\n",
    "acc2, time2 = train_experiment_4(model2)\n",
    "print(\"Model 2 Accuracy:\", acc2, \"Time:\", time2)\n",
    "\n",
    "# Increase stride\n",
    "model3 = LeNet3(2, 3, 0)\n",
    "acc3, time3 = train_experiment_4(model3)\n",
    "print(\"Model 3 Accuracy:\", acc3, \"Time:\", time3)\n",
    "\n",
    "# Add padding\n",
    "model4 = LeNet3(2, 3, 1)\n",
    "acc4, time4 = train_experiment_4(model4)\n",
    "print(\"Model 4 Accuracy:\", acc4, \"Time:\", time4)\n",
    "\n",
    "# Decrease stride\n",
    "model5 = LeNet3(2, 1, 0)\n",
    "acc5, time5 = train_experiment_4(model5)\n",
    "print(\"Model 5 Accuracy:\", acc5, \"Time:\", time5)\n",
    "\n",
    "# Increase kernel size, decrease stride\n",
    "model6 = LeNet3(3, 1, 0)\n",
    "acc6, time6 = train_experiment_4(model6)\n",
    "print(\"Model 6 Accuracy:\", acc6, \"Time:\", time6)\n",
    "\n",
    "# Increase kernel size, increase stride, add padding\n",
    "model7 = LeNet3(3, 4, 1)\n",
    "acc7, time7 = train_experiment_4(model7)\n",
    "print(\"Model 7 Accuracy:\", acc7, \"Time:\", time7)"
   ]
  },
  {
   "cell_type": "markdown",
   "id": "9a82f798",
   "metadata": {},
   "source": [
    "## Experiment 4: Deepen the Model\n",
    "### Define Models"
   ]
  },
  {
   "cell_type": "code",
   "execution_count": 4,
   "id": "4d7e4dad",
   "metadata": {},
   "outputs": [],
   "source": [
    "# 1 Convolutional Layer\n",
    "class LeNet4a(Module):\n",
    "    def __init__(self):\n",
    "        super().__init__()\n",
    "        self.conv1 = nn.Conv2d(1, 6, 5)\n",
    "        self.relu1 = nn.ReLU()\n",
    "        self.pool1 = nn.MaxPool2d(2)\n",
    "        self.fc1 = nn.Linear(864, 120)\n",
    "        self.relu3 = nn.ReLU()\n",
    "        self.fc2 = nn.Linear(120, 84)\n",
    "        self.relu4 = nn.ReLU()\n",
    "        self.fc3 = nn.Linear(84, 10)\n",
    "        self.relu5 = nn.ReLU()\n",
    "\n",
    "    def forward(self, x):\n",
    "        y = self.conv1(x)\n",
    "        y = self.relu1(y)\n",
    "        y = self.pool1(y)\n",
    "        y = y.view(y.shape[0], -1)\n",
    "        y = self.fc1(y)\n",
    "        y = self.relu3(y)\n",
    "        y = self.fc2(y)\n",
    "        y = self.relu4(y)\n",
    "        y = self.fc3(y)\n",
    "        y = self.relu5(y)\n",
    "        return y\n",
    "\n",
    "# 2 Convolutional Layers (Original Model)\n",
    "class LeNet4b(Module):\n",
    "    def __init__(self):\n",
    "        super().__init__()\n",
    "        self.conv1 = nn.Conv2d(1, 6, 5)\n",
    "        self.relu1 = nn.ReLU()\n",
    "        self.pool1 = nn.MaxPool2d(2)\n",
    "        self.conv2 = nn.Conv2d(6, 16, 5)\n",
    "        self.relu2 = nn.ReLU()\n",
    "        self.pool2 = nn.MaxPool2d(2)\n",
    "        self.fc1 = nn.Linear(256, 120) \n",
    "        self.relu3 = nn.ReLU()\n",
    "        self.fc2 = nn.Linear(120, 84)\n",
    "        self.relu4 = nn.ReLU()\n",
    "        self.fc3 = nn.Linear(84, 10)\n",
    "        self.relu5 = nn.ReLU()\n",
    "\n",
    "    def forward(self, x):\n",
    "        y = self.conv1(x)\n",
    "        y = self.relu1(y)\n",
    "        y = self.pool1(y)\n",
    "        y = self.conv2(y)\n",
    "        y = self.relu2(y)\n",
    "        y = self.pool2(y)\n",
    "        y = y.view(y.shape[0], -1)\n",
    "        y = self.fc1(y)\n",
    "        y = self.relu3(y)\n",
    "        y = self.fc2(y)\n",
    "        y = self.relu4(y)\n",
    "        y = self.fc3(y)\n",
    "        y = self.relu5(y)\n",
    "        return y\n",
    "    \n",
    "# 3 Convolutional Layers\n",
    "class LeNet4c(Module):\n",
    "    def __init__(self):\n",
    "        super().__init__()\n",
    "        self.conv1 = nn.Conv2d(1, 6, 5)\n",
    "        self.relu1 = nn.ReLU()\n",
    "        self.pool1 = nn.MaxPool2d(kernel_size=2, stride=1, padding=1)\n",
    "        self.conv2 = nn.Conv2d(6, 16, 5)\n",
    "        self.relu2 = nn.ReLU()\n",
    "        self.pool2 = nn.MaxPool2d(kernel_size=2, stride=1, padding=1)\n",
    "        self.conv3 = nn.Conv2d(16, 16, 3)\n",
    "        self.relu3 = nn.ReLU()\n",
    "        self.pool3 = nn.MaxPool2d(kernel_size=2, stride=1, padding=1)\n",
    "        self.fc1 = nn.LazyLinear(120) \n",
    "        self.relu3 = nn.ReLU()\n",
    "        self.fc2 = nn.Linear(120, 84)\n",
    "        self.relu4 = nn.ReLU()\n",
    "        self.fc3 = nn.Linear(84, 10)\n",
    "        self.relu5 = nn.ReLU()\n",
    "\n",
    "    def forward(self, x):\n",
    "        y = self.conv1(x)\n",
    "        y = self.relu1(y)\n",
    "        y = self.pool1(y)\n",
    "        y = self.conv2(y)\n",
    "        y = self.relu2(y)\n",
    "        y = self.pool2(y)\n",
    "        y = self.conv3(y)\n",
    "        y = self.relu3(y)\n",
    "        y = self.pool3(y) \n",
    "        y = y.view(y.shape[0], -1)\n",
    "        y = self.fc1(y)\n",
    "        y = self.relu3(y)\n",
    "        y = self.fc2(y)\n",
    "        y = self.relu4(y)\n",
    "        y = self.fc3(y)\n",
    "        y = self.relu5(y)\n",
    "        return y\n",
    "\n",
    "# 4 Convolutional Layers\n",
    "class LeNet4d(Module):\n",
    "    def __init__(self):\n",
    "        super().__init__()\n",
    "        self.conv1 = nn.Conv2d(1, 6, 5)\n",
    "        self.relu1 = nn.ReLU()\n",
    "        self.pool1 = nn.MaxPool2d(kernel_size=2, stride=1, padding=1)\n",
    "        self.conv2 = nn.Conv2d(6, 16, 5)\n",
    "        self.relu2 = nn.ReLU()\n",
    "        self.pool2 = nn.MaxPool2d(kernel_size=2, stride=1, padding=1)\n",
    "        self.conv3 = nn.Conv2d(16, 16, 3)\n",
    "        self.relu3 = nn.ReLU()\n",
    "        self.pool3 = nn.MaxPool2d(kernel_size=2, stride=1, padding=1)\n",
    "        self.conv4 = nn.Conv2d(16, 16, 3)\n",
    "        self.relu4 = nn.ReLU()\n",
    "        self.pool4 = nn.MaxPool2d(kernel_size=2, stride=1, padding=1)\n",
    "        self.fc1 = nn.LazyLinear(120) \n",
    "        self.relu3 = nn.ReLU()\n",
    "        self.fc2 = nn.Linear(120, 84)\n",
    "        self.relu4 = nn.ReLU()\n",
    "        self.fc3 = nn.Linear(84, 10)\n",
    "        self.relu5 = nn.ReLU()\n",
    "\n",
    "    def forward(self, x):\n",
    "        y = self.conv1(x)\n",
    "        y = self.relu1(y)\n",
    "        y = self.pool1(y)\n",
    "        y = self.conv2(y)\n",
    "        y = self.relu2(y)\n",
    "        y = self.pool2(y)\n",
    "        y = self.conv3(y)\n",
    "        y = self.relu3(y)\n",
    "        y = self.pool3(y) \n",
    "        y = self.conv4(y)\n",
    "        y = self.relu4(y)\n",
    "        y = self.pool4(y) \n",
    "        y = y.view(y.shape[0], -1)\n",
    "        y = self.fc1(y)\n",
    "        y = self.relu3(y)\n",
    "        y = self.fc2(y)\n",
    "        y = self.relu4(y)\n",
    "        y = self.fc3(y)\n",
    "        y = self.relu5(y)\n",
    "        return y"
   ]
  },
  {
   "cell_type": "markdown",
   "id": "baa9bdc3",
   "metadata": {},
   "source": [
    "### Train Models"
   ]
  },
  {
   "cell_type": "code",
   "execution_count": 5,
   "id": "a17206d8",
   "metadata": {
    "scrolled": true
   },
   "outputs": [
    {
     "name": "stdout",
     "output_type": "stream",
     "text": [
      "Model 1 Accuracy: 0.9764 Time: 131.668475151062\n",
      "Model 2 Accuracy: 0.9781 Time: 188.7756369113922\n"
     ]
    },
    {
     "name": "stderr",
     "output_type": "stream",
     "text": [
      "/Users/angelalandry/opt/anaconda3/lib/python3.9/site-packages/torch/nn/modules/lazy.py:180: UserWarning: Lazy modules are a new feature under heavy development so changes to the API or functionality can happen at any moment.\n",
      "  warnings.warn('Lazy modules are a new feature under heavy development '\n"
     ]
    },
    {
     "name": "stdout",
     "output_type": "stream",
     "text": [
      "Model 3 Accuracy: 0.7946 Time: 566.3674829006195\n",
      "Model 4 Accuracy: 0.8796 Time: 931.2274339199066\n"
     ]
    }
   ],
   "source": [
    "model1 = LeNet4a()\n",
    "acc1, time1 = train_experiment_4(model1)\n",
    "print(\"Model 1 Accuracy:\", acc1, \"Time:\", time1)\n",
    "\n",
    "model2 = LeNet4b()\n",
    "acc2, time2 = train_experiment_4(model2)\n",
    "print(\"Model 2 Accuracy:\", acc2, \"Time:\", time2)\n",
    "\n",
    "model3 = LeNet4c()\n",
    "acc3, time3 = train_experiment_4(model3)\n",
    "print(\"Model 3 Accuracy:\", acc3, \"Time:\", time3)\n",
    "\n",
    "model4 = LeNet4d()\n",
    "acc4, time4 = train_experiment_4(model4)\n",
    "print(\"Model 4 Accuracy:\", acc4, \"Time:\", time4)"
   ]
  },
  {
   "cell_type": "markdown",
   "id": "ee8c7b7f",
   "metadata": {},
   "source": [
    "### Visualize Results"
   ]
  },
  {
   "cell_type": "code",
   "execution_count": 8,
   "id": "cab67f22",
   "metadata": {},
   "outputs": [
    {
     "data": {
      "image/png": "[encoded data removed]",
      "text/plain": [
       "<Figure size 640x480 with 1 Axes>"
      ]
     },
     "metadata": {},
     "output_type": "display_data"
    },
    {
     "data": {
      "image/png": "[encoded data removed]",
      "text/plain": [
       "<Figure size 640x480 with 1 Axes>"
      ]
     },
     "metadata": {},
     "output_type": "display_data"
    }
   ],
   "source": [
    "conv_layers = [1, 2, 3, 4]\n",
    "accuracies = [acc1, acc2, acc3, acc4]\n",
    "times = [time1, time2, time3, time4]\n",
    "\n",
    "plt.plot(conv_layers, accuracies, 'o-')\n",
    "plt.xlabel('Num Conv Layers')\n",
    "plt.ylabel('Accuracy')\n",
    "plt.title('Accuracy vs Number of Conv Layers')\n",
    "plt.grid(True)\n",
    "plt.show();\n",
    "\n",
    "plt.plot(conv_layers, times, 'o-')\n",
    "plt.xlabel('Num Conv Layers')\n",
    "plt.ylabel('Runtime (secs)')\n",
    "plt.title('Accuracy vs Runtime')\n",
    "plt.grid(True)\n",
    "plt.show();"
   ]
  }
 ],
 "metadata": {
  "kernelspec": {
   "display_name": "Python 3 (ipykernel)",
   "language": "python",
   "name": "python3"
  },
  "language_info": {
   "codemirror_mode": {
    "name": "ipython",
    "version": 3
   },
   "file_extension": ".py",
   "mimetype": "text/x-python",
   "name": "python",
   "nbconvert_exporter": "python",
   "pygments_lexer": "ipython3",
   "version": "3.9.13"
  }
 },
 "nbformat": 4,
 "nbformat_minor": 5
}
